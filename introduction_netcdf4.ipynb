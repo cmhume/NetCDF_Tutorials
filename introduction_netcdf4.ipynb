{
 "cells": [
  {
   "cell_type": "markdown",
   "metadata": {
    "id": "IFONCGh-yV8D"
   },
   "source": [
    "<font color=\"white\">.</font> | <font color=\"white\">.</font> | <font color=\"white\">.</font>\n",
    "-- | -- | --\n",
    "![NASA](http://www.nasa.gov/sites/all/themes/custom/nasatwo/images/nasa-logo.svg) | <h1><font size=\"+3\">ASTG Python Courses</font></h1> | ![NASA](https://www.nccs.nasa.gov/sites/default/files/NCCS_Logo_0.png)\n",
    " \n",
    "---\n",
    "\n",
    "<CENTER>\n",
    "<H1 style=\"color:red\">\n",
    "An Introduction to netCDF4 Python\n",
    "</H1>\n",
    "</CENTER>"
   ]
  },
  {
   "cell_type": "markdown",
   "metadata": {
    "id": "jF9tXHSeyV8I"
   },
   "source": [
    "# <font color='red'> Useful References </font>"
   ]
  },
  {
   "cell_type": "markdown",
   "metadata": {
    "id": "Odwe8RJKyV8J"
   },
   "source": [
    "* <A HREF=\"http://pyhogs.github.io/intro_netcdf4.html\">Create and read netCDF files</A>\n",
    "* <A HREF=\"https://unidata.github.io/netcdf4-python/netCDF4/index.html\">netCDF4 module</A>\n",
    "* <a href=\"https://annefou.github.io/metos_python/07-LargeFiles/\">Handling very large files in Python</a>"
   ]
  },
  {
   "cell_type": "markdown",
   "metadata": {
    "id": "ougQ2dh3yV8K"
   },
   "source": [
    "## <font color=\"red\"> Scientific Data</font>\n",
    "\n",
    "* N‐dimensional arrays and metadata:\n",
    "* Measurements at specific time, location,condition\n",
    "       – Physics: temperature, pressure\n",
    "       – Chemistry: reaction speed\n",
    "       – Biology: type (species, cell types, nucleotides)\n",
    "       – Economics: price\n",
    "       – Algorithmics: program time and space\n",
    "       – Networking: network activity\n",
    "       – Robotics: movements\n",
    "     \n",
    "**Requirements**\n",
    "\n",
    "+ Compact storage: compression\n",
    "+ Fast I/O: parallel, partial, random access\n",
    "+ Portability: transporting data between computers\n",
    "+ Tools for manipulating data: reorganizing, aggregating, subsetting, converting,visualizing\n",
    "+ Easy API in many languages: C, C++, Fortran, Java, Matlab, Perl, Python, R, ..."
   ]
  },
  {
   "cell_type": "markdown",
   "metadata": {
    "id": "iBGI4iP-yV8L"
   },
   "source": [
    "## <font color=\"red\"> What We Will Cover </font>\n",
    "* Opening a file\n",
    "* Dimension\n",
    "* Variables\n",
    "* Attributes\n",
    "* Writing data\n",
    "* Creating groups\n",
    "* Reading data"
   ]
  },
  {
   "cell_type": "markdown",
   "metadata": {
    "id": "fQRoDuPYyV8L"
   },
   "source": [
    "## <font color='red'> What is netCDF?</font>"
   ]
  },
  {
   "cell_type": "markdown",
   "metadata": {
    "id": "LtotqmNFyV8M"
   },
   "source": [
    "**Overview**\n",
    "\n",
    "* The Network Common Data Form, or netCDF, is an interface to a library of data access functions for storing and retrieving data in the form of arrays.\n",
    "* NetCDF is an abstraction that supports a view of data as a collection of self-describing, portable objects that can be accessed through a simple interface.\n",
    "* All operations to access and manipulate data in a netCDF dataset must use only the set of functions provided by the interface.\n",
    "* Array values may be accessed directly, without knowing details of how the data are stored.\n",
    "* NetCDF supports efficient access to small subsets of large datasets."
   ]
  },
  {
   "cell_type": "markdown",
   "metadata": {
    "id": "RORkCNaLyV8O"
   },
   "source": [
    "**Portability**\n",
    "\n",
    "* The netCDF library is supported for various Linux/UNIX operating systems as well as MS Windows.\n",
    "* APIs written for Fortran 77/90, C, C++, Java"
   ]
  },
  {
   "cell_type": "markdown",
   "metadata": {
    "id": "emQ1vGvzyV8T"
   },
   "source": [
    "**Conventions**\n",
    "\n",
    "* The mere use of netCDF is not sufficient to make data \"self-describing\" and meaningful to both humans and machines. \n",
    "* By using a set of conventions, a data producer is more likely to produce files that can be easily shared within the research community, and that contain enough details to be useful as a long-term archive. \n",
    "* The names of variables and dimensions should be meaningful and conform to any relevant conventions.\n",
    "* It is important to use all the relevant standard attributes using the relevant conventions.\n",
    "\n"
   ]
  },
  {
   "cell_type": "markdown",
   "metadata": {
    "id": "yoi3heJPyV8X"
   },
   "source": [
    "## <font color='red'> What is netCDF4 Python?</font>\n",
    "\n",
    "* Python interface to the netCDF version 4 library.\n",
    "* **Can read and write files in both the new netCDF 4 and the netCDF 3 formats**.\n",
    "* Can create files that are readable by HDF5 utilities.\n",
    "* Relies on NumPy arrays."
   ]
  },
  {
   "cell_type": "markdown",
   "metadata": {
    "id": "bpj6cxUvyV8Y"
   },
   "source": [
    "-----"
   ]
  },
  {
   "cell_type": "markdown",
   "metadata": {
    "id": "smh4VRtfyV8Z"
   },
   "source": [
    "**<font color=\"blue\">Uncomment the cell below if you are in Google Colab</font>**"
   ]
  },
  {
   "cell_type": "code",
   "execution_count": null,
   "metadata": {
    "id": "0uEKFwigyV8Z"
   },
   "outputs": [],
   "source": [
    "#!pip install netCDF4"
   ]
  },
  {
   "cell_type": "markdown",
   "metadata": {
    "id": "mWTi94VryV8b"
   },
   "source": [
    "-----"
   ]
  },
  {
   "cell_type": "code",
   "execution_count": 1,
   "metadata": {
    "id": "UxrW5laZyV8b"
   },
   "outputs": [],
   "source": [
    "import warnings\n",
    "warnings.filterwarnings('ignore')"
   ]
  },
  {
   "cell_type": "code",
   "execution_count": 2,
   "metadata": {
    "id": "Ea2b-rD2yV8b"
   },
   "outputs": [],
   "source": [
    "import datetime\n",
    "import numpy as np\n",
    "import netCDF4 as nc4"
   ]
  },
  {
   "cell_type": "markdown",
   "metadata": {
    "id": "d7kDTJXoyV8c"
   },
   "source": [
    "## <font color='red'> Creating a netCDF-4 File</font>"
   ]
  },
  {
   "cell_type": "markdown",
   "metadata": {
    "id": "0Ft4cqXqyV8c"
   },
   "source": [
    "#### <font color='blue'> Opening a netCDF File</font>"
   ]
  },
  {
   "cell_type": "code",
   "execution_count": 3,
   "metadata": {
    "id": "SKA-YFUSyV8c"
   },
   "outputs": [],
   "source": [
    "ncFileName = 'sample_netcdf.nc4'\n",
    "modeType   = 'w'\n",
    "fileFormat = 'NETCDF4'\n",
    "ncfid = nc4.Dataset(ncFileName, mode=modeType, format=fileFormat)"
   ]
  },
  {
   "cell_type": "markdown",
   "metadata": {
    "id": "eYfzaursyV8c"
   },
   "source": [
    "`modeType` has the options:\n",
    "* 'w': to create a new file\n",
    "* 'r+': to read and write with an existing file\n",
    "* 'r': to read (only) an existing file\n",
    "* 'a': to append to existing file\n",
    "\n",
    "`fileFormat` has the options: \n",
    "* 'NETCDF3_CLASSIC': Original netCDF format     \n",
    "* 'NETCDF3_64BIT_OFFSET': Used to ease the size restrictions of netCDF classic files\n",
    "* 'NETCDF4_CLASSIC'\n",
    "* 'NETCDF4': Offer new features such as groups, compound types, variable length arrays, new unsigned integer types, parallel I/O access, etc.\n",
    "* 'NETCDF3_64BIT_DATA'"
   ]
  },
  {
   "cell_type": "markdown",
   "metadata": {
    "id": "EBUcUnfsyV8i"
   },
   "source": [
    "#### <font color='blue'> Creating Dimensions in a netCDF File</font>\n",
    "* Use the method `createDimension`\n",
    "* It typically takes as arguments a string (name of the dimension) and an integer (dimension size)\n",
    "* For unlimited dimensions, use `None` or `0` as size.\n",
    "* Unlimited size dimensions must be declared before (“to the left of”) other dimensions."
   ]
  },
  {
   "cell_type": "code",
   "execution_count": 4,
   "metadata": {
    "id": "rY2a6WhSyV8k"
   },
   "outputs": [],
   "source": [
    "time = ncfid.createDimension('time', None)\n",
    "lev  = ncfid.createDimension('lev', 72)\n",
    "lat  = ncfid.createDimension('lat', 91)\n",
    "lon  = ncfid.createDimension('lon', 144)"
   ]
  },
  {
   "cell_type": "markdown",
   "metadata": {
    "id": "WvBa3yJWyV8k"
   },
   "source": [
    "#### <font color='blue'>Create Variables</font>\n",
    "* netCDF variables behave much like python multidimensional array objects supplied by the `numpy` module. However, unlike numpy arrays, netCDF4 variables can be appended to along one or more 'unlimited' dimensions. \n",
    "* To create a netCDF variable, use the method `createVariable`.\n",
    "* The first three arguments are the variable name, the variable type, a tuple of previously defined dimension names.\n",
    "* You can specify the datatype as a numpy dtype object, or anything that can be converted to a `numpy` dtype object. \n",
    "* If you need data compression, add the `zlib=True` argument."
   ]
  },
  {
   "cell_type": "markdown",
   "metadata": {
    "id": "q-xt6JxCyV8l"
   },
   "source": [
    "**Dimension Variables**"
   ]
  },
  {
   "cell_type": "code",
   "execution_count": 5,
   "metadata": {
    "id": "QfOabNI2yV8l"
   },
   "outputs": [],
   "source": [
    "times      = ncfid.createVariable('time','f8',('time',))\n",
    "levels     = ncfid.createVariable('lev','i4',('lev',))\n",
    "latitudes  = ncfid.createVariable('lat','f4',('lat',))\n",
    "longitudes = ncfid.createVariable('lon','f4',('lon',))"
   ]
  },
  {
   "cell_type": "markdown",
   "metadata": {
    "id": "Mgm7tiuIyV8l"
   },
   "source": [
    "**Regular Variables**"
   ]
  },
  {
   "cell_type": "code",
   "execution_count": 6,
   "metadata": {
    "id": "gzUFf9-myV8m"
   },
   "outputs": [],
   "source": [
    "temp = ncfid.createVariable('temp','f4', \n",
    "                            ('time','lev','lat','lon',),\n",
    "                            fill_value=1.0e15)"
   ]
  },
  {
   "cell_type": "markdown",
   "metadata": {
    "id": "C2qRkfyNyV8m"
   },
   "source": [
    "- By default, each variable is pre-filled at creation, i.e., the `_ FillValue` attribute (value that a variable gets filled with before any data is loaded into it) will automatically be set. The value depends on the type of the variable.\n",
    "- If you want to set your own value of `_FillValue`, the `fill_value` argument needs to be set provided (with the appropriate value) during the variable creation. Doing so overrides the default netCDF `_FillValue`.\n",
    "- If `fill_value` is et to `False`, then then the variable is not pre-filled."
   ]
  },
  {
   "cell_type": "markdown",
   "metadata": {
    "id": "BUp6vzNQyV8m"
   },
   "source": [
    "#### <font color='blue'>Adding Variable Attributes</font>\n",
    "* Attributes allow us to capture metadata that would otherwise be separated from the data.\n",
    "* Variable attributes are added on individual variables in the dataset.\n",
    "* All variables should have values for the following attributes unless there is a very good reason not to:\n",
    "     - units\n",
    "     - long_name\n",
    "\n",
    "You may also consider attributes such as:\n",
    "* valid_min: Smallest valid value of a variable.\n",
    "* valid_max: Largest valid value of a variable.\n",
    "* standard_name: A name used to identify the physical quantity. A standard name contains no whitespace and is case sensitive. "
   ]
  },
  {
   "cell_type": "code",
   "execution_count": 7,
   "metadata": {
    "id": "78peQcNZyV8m"
   },
   "outputs": [],
   "source": [
    "latitudes.long_name  = 'latitude'\n",
    "latitudes.units      = 'degrees north'\n",
    "\n",
    "longitudes.long_name = 'longitude'\n",
    "longitudes.units     = 'degrees east'\n",
    "\n",
    "levels.long_name     = 'vertical levels'\n",
    "levels.units         = 'hPa'\n",
    "levels.positive      = 'down'\n",
    "\n",
    "beg_date = datetime.datetime(year=2019, month=1, day=1)\n",
    "times.long_name      = 'time'\n",
    "times.units          = beg_date.strftime('hours since %Y-%m-%d %H:%M:%S')\n",
    "times.calendar       = 'gregorian'\n",
    "\n",
    "temp.long_name       = 'temperature'\n",
    "temp.units           = 'K'\n",
    "temp.valid_min       = 200.\n",
    "temp.valid_max       = 350.\n",
    "temp.standard_name   = 'atmospheric_temperature'"
   ]
  },
  {
   "cell_type": "markdown",
   "metadata": {
    "id": "8rH4LCK9yV8m"
   },
   "source": [
    "#### <font color='blue'>Adding Global Attributes</font>\n",
    "* Global attributes are on the dataset.\n",
    "* We use directly the file identifier to add them."
   ]
  },
  {
   "cell_type": "code",
   "execution_count": 8,
   "metadata": {
    "id": "K-flR2nvyV8n"
   },
   "outputs": [],
   "source": [
    "current_date = datetime.datetime.today()\n",
    "ncfid.description = 'Sample netCDF file'\n",
    "ncfid.institution = 'NASA GSFC'\n",
    "ncfid.history     = 'File created on ' + current_date.strftime(\"%B %d, %Y, %H:%M:%S\")\n",
    "ncfid.source      = 'netCDF4 python tutorial'"
   ]
  },
  {
   "cell_type": "markdown",
   "metadata": {
    "id": "i0c1aqU6yV8n"
   },
   "source": [
    "#### <font color='blue'>Writing Data in the File</font>"
   ]
  },
  {
   "cell_type": "code",
   "execution_count": 9,
   "metadata": {
    "id": "-ix55XEsyV8n"
   },
   "outputs": [],
   "source": [
    "latitudes[:]  =  np.arange(-90,91,2.0)\n",
    "longitudes[:] =  np.arange(-180,180,2.5)\n",
    "levels[:]     =  np.arange(0,72,1)\n",
    "\n",
    "out_frequency = 3   # ouput frequency in hours\n",
    "num_records   = 5\n",
    "dates = [beg_date + n*datetime.timedelta(hours=out_frequency) for n in range(num_records)]\n",
    "times[:] = nc4.date2num(dates, units=times.units, calendar=times.calendar)\n",
    "for i in range(num_records):\n",
    "    temp[i,:,:,:] = np.random.uniform(size=(levels.size,\n",
    "                                            latitudes.size,\n",
    "                                            longitudes.size))"
   ]
  },
  {
   "cell_type": "code",
   "execution_count": 10,
   "metadata": {
    "id": "SyX9ORLmyV8n"
   },
   "outputs": [
    {
     "name": "stdout",
     "output_type": "stream",
     "text": [
      "Time values: \n",
      "\t Units: hours since 2019-01-01 00:00:00 \n",
      "\t Values: [ 0.  3.  6.  9. 12.]\n"
     ]
    }
   ],
   "source": [
    "print(\"Time values: \\n\\t Units: {} \\n\\t Values: {}\".format(times.units, times[:]))"
   ]
  },
  {
   "cell_type": "markdown",
   "metadata": {
    "id": "MqZz97yQyV8n"
   },
   "source": [
    "#### <font color='blue'>Printing Dimension Information</font>\n",
    "\n",
    "List all the dimension information:"
   ]
  },
  {
   "cell_type": "code",
   "execution_count": 11,
   "metadata": {
    "id": "tyNwdswqyV8o"
   },
   "outputs": [
    {
     "name": "stdout",
     "output_type": "stream",
     "text": [
      "{'time': <class 'netCDF4._netCDF4.Variable'>\n",
      "float64 time(time)\n",
      "    long_name: time\n",
      "    units: hours since 2019-01-01 00:00:00\n",
      "    calendar: gregorian\n",
      "unlimited dimensions: time\n",
      "current shape = (5,)\n",
      "filling on, default _FillValue of 9.969209968386869e+36 used, 'lev': <class 'netCDF4._netCDF4.Variable'>\n",
      "int32 lev(lev)\n",
      "    long_name: vertical levels\n",
      "    units: hPa\n",
      "    positive: down\n",
      "unlimited dimensions: \n",
      "current shape = (72,)\n",
      "filling on, default _FillValue of -2147483647 used, 'lat': <class 'netCDF4._netCDF4.Variable'>\n",
      "float32 lat(lat)\n",
      "    long_name: latitude\n",
      "    units: degrees north\n",
      "unlimited dimensions: \n",
      "current shape = (91,)\n",
      "filling on, default _FillValue of 9.969209968386869e+36 used, 'lon': <class 'netCDF4._netCDF4.Variable'>\n",
      "float32 lon(lon)\n",
      "    long_name: longitude\n",
      "    units: degrees east\n",
      "unlimited dimensions: \n",
      "current shape = (144,)\n",
      "filling on, default _FillValue of 9.969209968386869e+36 used, 'temp': <class 'netCDF4._netCDF4.Variable'>\n",
      "float32 temp(time, lev, lat, lon)\n",
      "    _FillValue: 1000000000000000.0\n",
      "    long_name: temperature\n",
      "    units: K\n",
      "    valid_min: 200.0\n",
      "    valid_max: 350.0\n",
      "    standard_name: atmospheric_temperature\n",
      "unlimited dimensions: time\n",
      "current shape = (5, 72, 91, 144)\n",
      "filling on}\n"
     ]
    }
   ],
   "source": [
    "print(ncfid.variables)"
   ]
  },
  {
   "cell_type": "code",
   "execution_count": 12,
   "metadata": {
    "id": "X5IckuFryV8o"
   },
   "outputs": [
    {
     "name": "stdout",
     "output_type": "stream",
     "text": [
      "<class 'netCDF4._netCDF4.Dimension'> (unlimited): name = 'time', size = 5 True\n",
      "<class 'netCDF4._netCDF4.Dimension'>: name = 'lev', size = 72 False\n",
      "<class 'netCDF4._netCDF4.Dimension'>: name = 'lat', size = 91 False\n",
      "<class 'netCDF4._netCDF4.Dimension'>: name = 'lon', size = 144 False\n"
     ]
    }
   ],
   "source": [
    "for dim in ncfid.dimensions.values():\n",
    "     print(dim, dim.isunlimited())"
   ]
  },
  {
   "cell_type": "markdown",
   "metadata": {
    "id": "dp3XnozlyV8o"
   },
   "source": [
    "Get the list of dimension name and retrieve info for each dimension:"
   ]
  },
  {
   "cell_type": "code",
   "execution_count": 13,
   "metadata": {
    "id": "-cb2gjFMyV8o"
   },
   "outputs": [
    {
     "name": "stdout",
     "output_type": "stream",
     "text": [
      "time float64 5\n",
      "lev int32 72\n",
      "lat float32 91\n",
      "lon float32 144\n"
     ]
    }
   ],
   "source": [
    "for name in ncfid.dimensions.keys():\n",
    "    dim = ncfid.variables[name]\n",
    "    print(name, dim.dtype, dim.size)"
   ]
  },
  {
   "cell_type": "code",
   "execution_count": 14,
   "metadata": {
    "id": "nmfhmm4fyV8o"
   },
   "outputs": [
    {
     "name": "stdout",
     "output_type": "stream",
     "text": [
      "time 5 True\n",
      "lev 72 False\n",
      "lat 91 False\n",
      "lon 144 False\n"
     ]
    }
   ],
   "source": [
    "for name, dim in ncfid.dimensions.items():\n",
    "    print(name, dim.size, dim.isunlimited())"
   ]
  },
  {
   "cell_type": "markdown",
   "metadata": {
    "id": "ko2WKJTPyV8o"
   },
   "source": [
    "#### <font color='blue'>Printing File Attributes</font>\n",
    "\n",
    "Get the global file attributes"
   ]
  },
  {
   "cell_type": "code",
   "execution_count": 15,
   "metadata": {
    "id": "CVVqwOPCyV8p"
   },
   "outputs": [
    {
     "name": "stdout",
     "output_type": "stream",
     "text": [
      "    description: Sample netCDF file\n",
      "    institution: NASA GSFC\n",
      "        history: File created on December 13, 2021, 10:19:58\n",
      "         source: netCDF4 python tutorial\n"
     ]
    }
   ],
   "source": [
    "for att in ncfid.ncattrs():\n",
    "    print(\"{:>15}: {}\".format(att, ncfid.getncattr(att)))"
   ]
  },
  {
   "cell_type": "code",
   "execution_count": 16,
   "metadata": {
    "id": "4jVcGS-0yV8p"
   },
   "outputs": [
    {
     "name": "stdout",
     "output_type": "stream",
     "text": [
      "    description: Sample netCDF file\n",
      "    institution: NASA GSFC\n",
      "        history: File created on December 13, 2021, 10:19:58\n",
      "         source: netCDF4 python tutorial\n"
     ]
    }
   ],
   "source": [
    "for att in ncfid.ncattrs():\n",
    "    print(\"{:>15}: {}\".format(att, getattr(ncfid, att)))"
   ]
  },
  {
   "cell_type": "markdown",
   "metadata": {
    "id": "cvDwFtfAyV8p"
   },
   "source": [
    "Global attributes as a dictionary:"
   ]
  },
  {
   "cell_type": "code",
   "execution_count": 17,
   "metadata": {
    "id": "pehPH8rEyV8p"
   },
   "outputs": [
    {
     "name": "stdout",
     "output_type": "stream",
     "text": [
      "{'description': 'Sample netCDF file', 'institution': 'NASA GSFC', 'history': 'File created on December 13, 2021, 10:19:58', 'source': 'netCDF4 python tutorial'}\n"
     ]
    }
   ],
   "source": [
    "print(ncfid.__dict__)"
   ]
  },
  {
   "cell_type": "markdown",
   "metadata": {
    "id": "YRcu_quTyV8p"
   },
   "source": [
    "#### <font color='blue'>Printing Variable Information</font>\n",
    "\n",
    "List variable information but exclude dimensions:"
   ]
  },
  {
   "cell_type": "code",
   "execution_count": 18,
   "metadata": {
    "id": "o0L-vj4hyV8p"
   },
   "outputs": [
    {
     "name": "stdout",
     "output_type": "stream",
     "text": [
      "temp K (5, 72, 91, 144) float32 ('time', 'lev', 'lat', 'lon')\n"
     ]
    }
   ],
   "source": [
    "for name in ncfid.variables.keys():\n",
    "    if (name not in ncfid.dimensions.keys()):\n",
    "       data = ncfid.variables[name]\n",
    "       print(name, data.units, data.shape, data.dtype, data.dimensions)"
   ]
  },
  {
   "cell_type": "code",
   "execution_count": 19,
   "metadata": {
    "id": "CcX4j9YryV8p"
   },
   "outputs": [
    {
     "name": "stdout",
     "output_type": "stream",
     "text": [
      "temp K (5, 72, 91, 144) float32 ('time', 'lev', 'lat', 'lon')\n"
     ]
    }
   ],
   "source": [
    "for name, var in ncfid.variables.items():\n",
    "    if (name not in ncfid.dimensions.keys()):\n",
    "       print(name, var.units, var.shape, var.dtype, var.dimensions)"
   ]
  },
  {
   "cell_type": "markdown",
   "metadata": {
    "id": "u0BxPb-EyV8q"
   },
   "source": [
    "You can write a function to print variable attribute:"
   ]
  },
  {
   "cell_type": "code",
   "execution_count": 20,
   "metadata": {
    "id": "YpbR86P0yV8q"
   },
   "outputs": [],
   "source": [
    "def print_ncattr(fid, key):\n",
    "    \"\"\"\n",
    "        Prints the NetCDF file attributes for a given key\n",
    "\n",
    "        Parameters: \n",
    "            * fid:  netCDF file identifier\n",
    "            * key:  unicode (a valid netCDF4.Dataset.variables key)\n",
    "    \"\"\"\n",
    "    try:\n",
    "        print('{}  -->'.format(key))\n",
    "        print(\"\\t {:>15}: {}\".format(\"type\", fid.variables[key].dtype))\n",
    "        for attr in fid.variables[key].ncattrs():\n",
    "            print('\\t {:>15}: {}'.format(attr, fid.variables[key].getncattr(attr)))\n",
    "    except KeyError:\n",
    "        print(\"\\t WARNING: {} does not contain variable attributes\".format(key))"
   ]
  },
  {
   "cell_type": "code",
   "execution_count": 21,
   "metadata": {
    "id": "sCPS2DFsyV8q"
   },
   "outputs": [
    {
     "name": "stdout",
     "output_type": "stream",
     "text": [
      "\n",
      "        Prints the NetCDF file attributes for a given key\n",
      "\n",
      "        Parameters: \n",
      "            * fid:  netCDF file identifier\n",
      "            * key:  unicode (a valid netCDF4.Dataset.variables key)\n",
      "    \n"
     ]
    }
   ],
   "source": [
    "print(print_ncattr.__doc__)"
   ]
  },
  {
   "cell_type": "code",
   "execution_count": 22,
   "metadata": {
    "id": "-522qSknyV8q"
   },
   "outputs": [
    {
     "name": "stdout",
     "output_type": "stream",
     "text": [
      "time  -->\n",
      "\t            type: float64\n",
      "\t       long_name: time\n",
      "\t           units: hours since 2019-01-01 00:00:00\n",
      "\t        calendar: gregorian\n",
      "lev  -->\n",
      "\t            type: int32\n",
      "\t       long_name: vertical levels\n",
      "\t           units: hPa\n",
      "\t        positive: down\n",
      "lat  -->\n",
      "\t            type: float32\n",
      "\t       long_name: latitude\n",
      "\t           units: degrees north\n",
      "lon  -->\n",
      "\t            type: float32\n",
      "\t       long_name: longitude\n",
      "\t           units: degrees east\n",
      "temp  -->\n",
      "\t            type: float32\n",
      "\t      _FillValue: 999999986991104.0\n",
      "\t       long_name: temperature\n",
      "\t           units: K\n",
      "\t       valid_min: 200.0\n",
      "\t       valid_max: 350.0\n",
      "\t   standard_name: atmospheric_temperature\n"
     ]
    }
   ],
   "source": [
    "for name in ncfid.variables.keys():\n",
    "    print_ncattr(ncfid, name)"
   ]
  },
  {
   "cell_type": "code",
   "execution_count": 23,
   "metadata": {
    "id": "xnWGwrhsyV8q"
   },
   "outputs": [
    {
     "name": "stdout",
     "output_type": "stream",
     "text": [
      "Wind  -->\n",
      "\t WARNING: Wind does not contain variable attributes\n"
     ]
    }
   ],
   "source": [
    "print_ncattr(ncfid, \"Wind\")"
   ]
  },
  {
   "cell_type": "code",
   "execution_count": 24,
   "metadata": {
    "id": "L_ndxfmgyV8q"
   },
   "outputs": [
    {
     "name": "stdout",
     "output_type": "stream",
     "text": [
      "time  -->\n",
      "\t            type: float64\n",
      "\t       long_name: time\n",
      "\t           units: hours since 2019-01-01 00:00:00\n",
      "\t        calendar: gregorian\n",
      "lev  -->\n",
      "\t            type: int32\n",
      "\t       long_name: vertical levels\n",
      "\t           units: hPa\n",
      "\t        positive: down\n",
      "lat  -->\n",
      "\t            type: float32\n",
      "\t       long_name: latitude\n",
      "\t           units: degrees north\n",
      "lon  -->\n",
      "\t            type: float32\n",
      "\t       long_name: longitude\n",
      "\t           units: degrees east\n",
      "temp  -->\n",
      "\t            type: float32\n",
      "\t      _FillValue: 999999986991104.0\n",
      "\t       long_name: temperature\n",
      "\t           units: K\n",
      "\t       valid_min: 200.0\n",
      "\t       valid_max: 350.0\n",
      "\t   standard_name: atmospheric_temperature\n"
     ]
    }
   ],
   "source": [
    "for name, var in ncfid.variables.items():\n",
    "    print('{}  -->'.format(name))\n",
    "    print(\"\\t {:>15}: {}\".format(\"type\", var.dtype))\n",
    "    for attr in var.ncattrs():\n",
    "        print('\\t {:>15}: {}'.format(attr, var.getncattr(attr)))"
   ]
  },
  {
   "cell_type": "markdown",
   "metadata": {
    "id": "QMWZPf5ByV8r"
   },
   "source": [
    "#### <font color='blue'>Create Groups</font>\n",
    "* We can organize data in hierarchical groups, which are analogous to directories in a filesystem. \n",
    "* Groups serve as containers for variables, dimensions and attributes, as well as other groups.\n",
    "* Use the method `createGroup` to create groups."
   ]
  },
  {
   "cell_type": "code",
   "execution_count": 25,
   "metadata": {
    "id": "KOV_iiSGyV8r"
   },
   "outputs": [],
   "source": [
    "fcstgrp  = ncfid.createGroup('forecasts')\n",
    "fcstgrpm = ncfid.createGroup('forecasts/model')"
   ]
  },
  {
   "cell_type": "markdown",
   "metadata": {
    "id": "o9OFJdPZyV8r"
   },
   "source": [
    "List the groups:"
   ]
  },
  {
   "cell_type": "code",
   "execution_count": 26,
   "metadata": {
    "id": "uyWZJTT0yV8r"
   },
   "outputs": [
    {
     "name": "stdout",
     "output_type": "stream",
     "text": [
      "{'forecasts': <class 'netCDF4._netCDF4.Group'>\n",
      "group /forecasts:\n",
      "    dimensions(sizes): \n",
      "    variables(dimensions): \n",
      "    groups: model}\n"
     ]
    }
   ],
   "source": [
    "print(ncfid.groups)"
   ]
  },
  {
   "cell_type": "code",
   "execution_count": 27,
   "metadata": {
    "id": "lR3PKdOdyV8r"
   },
   "outputs": [],
   "source": [
    "def walk_group_tree(top):\n",
    "    \"\"\"\n",
    "       Python generator that is used to walk the directory tree.\n",
    "    \"\"\"\n",
    "    values = top.groups.values()\n",
    "    yield values\n",
    "    for value in top.groups.values():\n",
    "        for children in walk_group_tree(value):\n",
    "            yield children"
   ]
  },
  {
   "cell_type": "markdown",
   "metadata": {
    "id": "5_zXU_S9yV8s"
   },
   "source": [
    "List of the created groups in the dataset:"
   ]
  },
  {
   "cell_type": "code",
   "execution_count": 28,
   "metadata": {
    "id": "Z-LJb8BxyV8s"
   },
   "outputs": [
    {
     "name": "stdout",
     "output_type": "stream",
     "text": [
      "<class 'netCDF4._netCDF4.Group'>\n",
      "group /forecasts:\n",
      "    dimensions(sizes): \n",
      "    variables(dimensions): \n",
      "    groups: model\n",
      "<class 'netCDF4._netCDF4.Group'>\n",
      "group /forecasts/model:\n",
      "    dimensions(sizes): \n",
      "    variables(dimensions): \n",
      "    groups: \n"
     ]
    }
   ],
   "source": [
    "for children in walk_group_tree(ncfid):\n",
    "    for child in children:\n",
    "        print(child)"
   ]
  },
  {
   "cell_type": "markdown",
   "metadata": {
    "id": "xMCF9pYAyV8s"
   },
   "source": [
    "##### Add variable to a group"
   ]
  },
  {
   "cell_type": "code",
   "execution_count": 29,
   "metadata": {
    "id": "TT8wqkXXyV8s"
   },
   "outputs": [],
   "source": [
    "tempm = ncfid.createVariable('forecasts/model/temp','f4', \\\n",
    "                                  ('time','lev','lat','lon',))\n",
    "\n",
    "tempm.long_name       = 'temperature (model)'\n",
    "tempm.units           = 'K'\n",
    "tempm.valid_min       = 200.\n",
    "tempm.valid_max       = 350.\n",
    "tempm.standard_name   = 'atmospheric_temperature'\n",
    "\n",
    "tempm[0:num_records,:,:,:] = np.random.uniform(size=(num_records,\n",
    "                                                     levels.size,\n",
    "                                                     latitudes.size,\n",
    "                                                     longitudes.size))\n",
    "\n",
    "ps = fcstgrpm.createVariable('PS', 'f4', ('time', 'lat','lon',))\n",
    "ps.long_name = 'surface_pressure'\n",
    "ps.units = 'Pa'\n",
    "ps.valid_min = -1.0e15\n",
    "ps.valid_max = 1.0e15\n",
    "ps[0:num_records,:,:] = 1500.0*np.random.uniform(size=(num_records, latitudes.size,\n",
    "                                                       longitudes.size))"
   ]
  },
  {
   "cell_type": "code",
   "execution_count": 30,
   "metadata": {
    "id": "vw9Z2oFoyV8s"
   },
   "outputs": [
    {
     "name": "stdout",
     "output_type": "stream",
     "text": [
      "<class 'netCDF4._netCDF4.Group'>\n",
      "group /forecasts/model:\n",
      "    dimensions(sizes): \n",
      "    variables(dimensions): float32 temp(time,lev,lat,lon), float32 PS(time,lat,lon)\n",
      "    groups: \n"
     ]
    }
   ],
   "source": [
    "print(ncfid[\"forecasts/model\"])"
   ]
  },
  {
   "cell_type": "code",
   "execution_count": 31,
   "metadata": {
    "id": "s-OQz7InyV8s"
   },
   "outputs": [
    {
     "name": "stdout",
     "output_type": "stream",
     "text": [
      "<class 'netCDF4._netCDF4.Variable'>\n",
      "float32 temp(time, lev, lat, lon)\n",
      "    long_name: temperature (model)\n",
      "    units: K\n",
      "    valid_min: 200.0\n",
      "    valid_max: 350.0\n",
      "    standard_name: atmospheric_temperature\n",
      "path = /forecasts/model\n",
      "unlimited dimensions: time\n",
      "current shape = (5, 72, 91, 144)\n",
      "filling on, default _FillValue of 9.969209968386869e+36 used\n"
     ]
    }
   ],
   "source": [
    "print(ncfid[\"forecasts/model/temp\"])"
   ]
  },
  {
   "cell_type": "markdown",
   "metadata": {
    "id": "UeF2g6Q7yV8s"
   },
   "source": [
    "#### <font color='blue'>Close the file</font>"
   ]
  },
  {
   "cell_type": "code",
   "execution_count": 32,
   "metadata": {
    "id": "kQu3ztJuyV8t"
   },
   "outputs": [],
   "source": [
    "ncfid.close()"
   ]
  },
  {
   "cell_type": "markdown",
   "metadata": {
    "id": "RD0y4-e7yV8t"
   },
   "source": [
    "## <font color='red'>Data Compression</font>\n",
    "\n",
    "- netCDF4 provides easy methods to compress data. \n",
    "- When you create variables, you can turn on data compression by setting the keyword argument `zlib=True`:\n",
    "\n",
    "```python\n",
    "temp = ncfid.createVariable('temp','f4', \\\n",
    "                            ('time','lev','lat','lon',),\n",
    "                            zlib=True)\n",
    "```\n",
    "\n",
    "- The `complevel` keyword argument toggles the compression ratio and speed. \n",
    "- Options range from 1 to 9 (1 being the fastest with least compression and 9 being the slowest with most compression. Default is 4). \n",
    "- Additionally, you may also specify the precision of your data using the `least_significant_digit` keyword argument.\n",
    "-  By specifying the least significant digit, you can further enhance the data compression. This just gives netCDF more freedom when it packs the data into your harddrive. \n",
    "\n",
    "```python\n",
    "temp = ncfid.createVariable('temp','f4', \\\n",
    "                            ('time','lev','lat','lon',),\n",
    "                            zlib=True,\n",
    "                            least_significant_digit=4)\n",
    "```"
   ]
  },
  {
   "cell_type": "markdown",
   "metadata": {
    "id": "BAmPSDBmyV8t"
   },
   "source": [
    "## <font color=\"red\"> Reading netCDF Files</font>"
   ]
  },
  {
   "cell_type": "markdown",
   "metadata": {
    "id": "bYxJtnH6yV8u"
   },
   "source": [
    "### Reading Individual Files"
   ]
  },
  {
   "cell_type": "code",
   "execution_count": 33,
   "metadata": {
    "id": "lk_t9nZkyV8w"
   },
   "outputs": [
    {
     "name": "stdout",
     "output_type": "stream",
     "text": [
      "time  -->\n",
      "\t            type: float64\n",
      "\t       long_name: time\n",
      "\t           units: hours since 2019-01-01 00:00:00\n",
      "\t        calendar: gregorian\n",
      "temp  -->\n",
      "\t            type: float32\n",
      "\t      _FillValue: 999999986991104.0\n",
      "\t       long_name: temperature\n",
      "\t           units: K\n",
      "\t       valid_min: 200.0\n",
      "\t       valid_max: 350.0\n",
      "\t   standard_name: atmospheric_temperature\n",
      "temp  -->\n",
      "\t            type: float32\n",
      "\t       long_name: temperature (model)\n",
      "\t           units: K\n",
      "\t       valid_min: 200.0\n",
      "\t       valid_max: 350.0\n",
      "\t   standard_name: atmospheric_temperature\n",
      "--------------------------------------------------\n",
      "Type of temp_var: <class 'netCDF4._netCDF4.Variable'>\n",
      "--------------------------------------------------\n",
      "<class 'netCDF4._netCDF4.Variable'>\n",
      "float32 temp(time, lev, lat, lon)\n",
      "    _FillValue: 1000000000000000.0\n",
      "    long_name: temperature\n",
      "    units: K\n",
      "    valid_min: 200.0\n",
      "    valid_max: 350.0\n",
      "    standard_name: atmospheric_temperature\n",
      "unlimited dimensions: time\n",
      "current shape = (5, 72, 91, 144)\n",
      "filling on\n",
      "----------------------------------------\n"
     ]
    }
   ],
   "source": [
    "with nc4.Dataset(ncFileName, mode='r') as ncfid:\n",
    "     time   = ncfid.variables['time'][:]\n",
    "     lev    = ncfid.variables['lev'][:]\n",
    "     lat    = ncfid.variables['lat'][:]\n",
    "     lon    = ncfid.variables['lon'][:]\n",
    "     temp   = ncfid.variables['temp'][:]\n",
    "     grpid1 = ncfid.groups['forecasts']\n",
    "     grpid2 = grpid1.groups['model']\n",
    "     tempm  = grpid2.variables['temp'][:]\n",
    "    \n",
    "     # Print variable information\n",
    "     print_ncattr(ncfid,  'time')\n",
    "     print_ncattr(ncfid,  'temp')\n",
    "     print_ncattr(grpid2, 'temp')\n",
    "    \n",
    "     dates = nc4.num2date(time, ncfid.variables['time'].units)\n",
    "\n",
    "     print(\"-\"*50)\n",
    "     temp_var = ncfid.variables['temp']\n",
    "     print(\"Type of temp_var: {}\".format(type(temp_var)))\n",
    "     print(\"-\"*50)\n",
    "     print(temp_var)\n",
    "     print(\"-\"*40)"
   ]
  },
  {
   "cell_type": "code",
   "execution_count": 34,
   "metadata": {
    "id": "QU8QeerVyV8z"
   },
   "outputs": [
    {
     "name": "stdout",
     "output_type": "stream",
     "text": [
      "Type of lon:  <class 'numpy.ma.core.MaskedArray'>\n",
      "Type of temp: <class 'numpy.ma.core.MaskedArray'>\n"
     ]
    }
   ],
   "source": [
    "print(\"Type of lon:  {}\".format(type(lon)))\n",
    "print(\"Type of temp: {}\".format(type(temp)))"
   ]
  },
  {
   "cell_type": "markdown",
   "metadata": {
    "id": "aBc0qg3uyV80"
   },
   "source": [
    "**Important**\n",
    "\n",
    "While reading data from a file:\n",
    "\n",
    "- If you do not include `[:]` at the end of `variables[var_name]`, you are getting a variable object.\n",
    "- If you include `[:]` (or `[:,:]`, `[0, i:j, :]`, etc.) at the end of `variables[var_name]`, you are getting the Numpy array containing the data."
   ]
  },
  {
   "cell_type": "code",
   "execution_count": 35,
   "metadata": {
    "id": "93S6ihg7yV80"
   },
   "outputs": [
    {
     "name": "stdout",
     "output_type": "stream",
     "text": [
      "tem_var:  "
     ]
    },
    {
     "ename": "RuntimeError",
     "evalue": "NetCDF: Not a valid ID",
     "output_type": "error",
     "traceback": [
      "\u001b[1;31m---------------------------------------------------------------------------\u001b[0m",
      "\u001b[1;31mRuntimeError\u001b[0m                              Traceback (most recent call last)",
      "\u001b[1;32m<ipython-input-35-129edea60a62>\u001b[0m in \u001b[0;36m<module>\u001b[1;34m\u001b[0m\n\u001b[1;32m----> 1\u001b[1;33m \u001b[0mprint\u001b[0m\u001b[1;33m(\u001b[0m\u001b[1;34m\"tem_var: \"\u001b[0m\u001b[1;33m,\u001b[0m \u001b[0mtemp_var\u001b[0m\u001b[1;33m)\u001b[0m\u001b[1;33m\u001b[0m\u001b[1;33m\u001b[0m\u001b[0m\n\u001b[0m",
      "\u001b[1;32mnetCDF4\\_netCDF4.pyx\u001b[0m in \u001b[0;36mnetCDF4._netCDF4.Variable.__repr__\u001b[1;34m()\u001b[0m\n",
      "\u001b[1;32mnetCDF4\\_netCDF4.pyx\u001b[0m in \u001b[0;36mgenexpr\u001b[1;34m()\u001b[0m\n",
      "\u001b[1;32mnetCDF4\\_netCDF4.pyx\u001b[0m in \u001b[0;36mgenexpr\u001b[1;34m()\u001b[0m\n",
      "\u001b[1;32mnetCDF4\\_netCDF4.pyx\u001b[0m in \u001b[0;36mnetCDF4._netCDF4.Variable.dimensions.__get__\u001b[1;34m()\u001b[0m\n",
      "\u001b[1;32mnetCDF4\\_netCDF4.pyx\u001b[0m in \u001b[0;36mnetCDF4._netCDF4.Variable._getdims\u001b[1;34m()\u001b[0m\n",
      "\u001b[1;32mnetCDF4\\_netCDF4.pyx\u001b[0m in \u001b[0;36mnetCDF4._netCDF4._ensure_nc_success\u001b[1;34m()\u001b[0m\n",
      "\u001b[1;31mRuntimeError\u001b[0m: NetCDF: Not a valid ID"
     ]
    }
   ],
   "source": [
    "print(\"tem_var: \", temp_var)"
   ]
  },
  {
   "cell_type": "markdown",
   "metadata": {
    "id": "w9ym960-yV80"
   },
   "source": [
    "**Note that the variable object `temp_var` is only accessible as long as the file is opened.**"
   ]
  },
  {
   "cell_type": "code",
   "execution_count": 36,
   "metadata": {
    "id": "69_uwgJSyV80"
   },
   "outputs": [
    {
     "name": "stdout",
     "output_type": "stream",
     "text": [
      "Time:  [ 0.  3.  6.  9. 12.]\n"
     ]
    }
   ],
   "source": [
    "print(\"Time: \", time)"
   ]
  },
  {
   "cell_type": "markdown",
   "metadata": {
    "id": "_BkUzTrZyV81"
   },
   "source": [
    "We can get the time values as dates:"
   ]
  },
  {
   "cell_type": "code",
   "execution_count": 37,
   "metadata": {
    "id": "u1UNuFHfyV81"
   },
   "outputs": [
    {
     "name": "stdout",
     "output_type": "stream",
     "text": [
      "['2019-01-01 00:00:00', '2019-01-01 03:00:00', '2019-01-01 06:00:00', '2019-01-01 09:00:00', '2019-01-01 12:00:00']\n"
     ]
    }
   ],
   "source": [
    "print([date.strftime('%Y-%m-%d %H:%M:%S') for date in dates[:]])"
   ]
  },
  {
   "cell_type": "code",
   "execution_count": 38,
   "metadata": {
    "id": "rOfkqSq2yV81"
   },
   "outputs": [
    {
     "name": "stdout",
     "output_type": "stream",
     "text": [
      "Longitude values:  [-180.  -177.5 -175.  -172.5 -170.  -167.5 -165.  -162.5 -160.  -157.5\n",
      " -155.  -152.5 -150.  -147.5 -145.  -142.5 -140.  -137.5 -135.  -132.5\n",
      " -130.  -127.5 -125.  -122.5 -120.  -117.5 -115.  -112.5 -110.  -107.5\n",
      " -105.  -102.5 -100.   -97.5  -95.   -92.5  -90.   -87.5  -85.   -82.5\n",
      "  -80.   -77.5  -75.   -72.5  -70.   -67.5  -65.   -62.5  -60.   -57.5\n",
      "  -55.   -52.5  -50.   -47.5  -45.   -42.5  -40.   -37.5  -35.   -32.5\n",
      "  -30.   -27.5  -25.   -22.5  -20.   -17.5  -15.   -12.5  -10.    -7.5\n",
      "   -5.    -2.5    0.     2.5    5.     7.5   10.    12.5   15.    17.5\n",
      "   20.    22.5   25.    27.5   30.    32.5   35.    37.5   40.    42.5\n",
      "   45.    47.5   50.    52.5   55.    57.5   60.    62.5   65.    67.5\n",
      "   70.    72.5   75.    77.5   80.    82.5   85.    87.5   90.    92.5\n",
      "   95.    97.5  100.   102.5  105.   107.5  110.   112.5  115.   117.5\n",
      "  120.   122.5  125.   127.5  130.   132.5  135.   137.5  140.   142.5\n",
      "  145.   147.5  150.   152.5  155.   157.5  160.   162.5  165.   167.5\n",
      "  170.   172.5  175.   177.5]\n"
     ]
    }
   ],
   "source": [
    "print(\"Longitude values: \", lon)"
   ]
  },
  {
   "cell_type": "code",
   "execution_count": 39,
   "metadata": {
    "id": "hAjz_l-xyV81"
   },
   "outputs": [
    {
     "name": "stdout",
     "output_type": "stream",
     "text": [
      "Latitude values:  [-90. -88. -86. -84. -82. -80. -78. -76. -74. -72. -70. -68. -66. -64.\n",
      " -62. -60. -58. -56. -54. -52. -50. -48. -46. -44. -42. -40. -38. -36.\n",
      " -34. -32. -30. -28. -26. -24. -22. -20. -18. -16. -14. -12. -10.  -8.\n",
      "  -6.  -4.  -2.   0.   2.   4.   6.   8.  10.  12.  14.  16.  18.  20.\n",
      "  22.  24.  26.  28.  30.  32.  34.  36.  38.  40.  42.  44.  46.  48.\n",
      "  50.  52.  54.  56.  58.  60.  62.  64.  66.  68.  70.  72.  74.  76.\n",
      "  78.  80.  82.  84.  86.  88.  90.]\n"
     ]
    }
   ],
   "source": [
    "print(\"Latitude values: \", lat)"
   ]
  },
  {
   "cell_type": "code",
   "execution_count": 40,
   "metadata": {
    "id": "eJNsuNGRyV82"
   },
   "outputs": [
    {
     "name": "stdout",
     "output_type": "stream",
     "text": [
      "Temperature info: \n",
      "(5, 72, 91, 144)\n",
      "-- --\n"
     ]
    }
   ],
   "source": [
    "print(\"Temperature info: \")\n",
    "print(temp.shape)\n",
    "print(np.min(temp), np.max(temp))"
   ]
  },
  {
   "cell_type": "code",
   "execution_count": 41,
   "metadata": {
    "id": "5orecdnkyV82"
   },
   "outputs": [
    {
     "name": "stdout",
     "output_type": "stream",
     "text": [
      "Temperature (model) info: \n",
      "(5, 72, 91, 144)\n",
      "-- --\n"
     ]
    }
   ],
   "source": [
    "print(\"Temperature (model) info: \")\n",
    "print(tempm.shape)\n",
    "print(np.min(tempm), np.max(tempm))"
   ]
  },
  {
   "cell_type": "markdown",
   "metadata": {
    "id": "wFux5hnNyV82"
   },
   "source": [
    "**To extract data from a scalar variable `v` with no associated dimensions, use `numpy.asarray(v)` or `v[...]`. The result will be a numpy scalar array.**"
   ]
  },
  {
   "cell_type": "markdown",
   "metadata": {
    "id": "V1FtrQBUyV82"
   },
   "source": [
    "### Reading Multi-File Dataset\n",
    "\n",
    "- If you have multiple files that have the same variable and the same unlimited dimension, you can read them in simultaneous using `MFDataset`. \n",
    "- Instead of using a single filename to create a `Dataset` instance, create a `MFDataset` instance with either a list of filenames, or a string with a wildcard (which is then converted to a sorted list of files using the python `glob` module).\n",
    "- `MFDataset` uses file globbing to patch together all the files into one big Dataset.\n",
    "- It can only aggregate the data along the leftmost dimension of each variable.\n",
    "- It can be slow!\n",
    "- This is only available for `NETCDF3_64BIT`, `NETCDF3_CLASSIC` or `NETCDF4_CLASSIC` formats."
   ]
  },
  {
   "cell_type": "markdown",
   "metadata": {
    "id": "nJrWEfYZyV83"
   },
   "source": [
    "Assume that you create the files:"
   ]
  },
  {
   "cell_type": "code",
   "execution_count": 43,
   "metadata": {
    "id": "UyGYXn8MyV83"
   },
   "outputs": [],
   "source": [
    "for nf in range(10):\n",
    "    with nc4.Dataset(\"mftest%s.nc\" % nf, \"w\", format=\"NETCDF4_CLASSIC\") as f:\n",
    "         _ = f.createDimension(\"x\", None)\n",
    "         x = f.createVariable(\"x\", \"i\", (\"x\",))\n",
    "         x[0:10] = np.arange(nf*10,10*(nf+1))"
   ]
  },
  {
   "cell_type": "markdown",
   "metadata": {
    "id": "7PKW9VOlyV83"
   },
   "source": [
    "You can read all the files and access the variable `x`:"
   ]
  },
  {
   "cell_type": "code",
   "execution_count": 44,
   "metadata": {
    "id": "0f3N6DUuyV83"
   },
   "outputs": [
    {
     "name": "stdout",
     "output_type": "stream",
     "text": [
      "[ 0  1  2  3  4  5  6  7  8  9 10 11 12 13 14 15 16 17 18 19 20 21 22 23\n",
      " 24 25 26 27 28 29 30 31 32 33 34 35 36 37 38 39 40 41 42 43 44 45 46 47\n",
      " 48 49 50 51 52 53 54 55 56 57 58 59 60 61 62 63 64 65 66 67 68 69 70 71\n",
      " 72 73 74 75 76 77 78 79 80 81 82 83 84 85 86 87 88 89 90 91 92 93 94 95\n",
      " 96 97 98 99]\n"
     ]
    }
   ],
   "source": [
    "f = nc4.MFDataset(\"mftest*nc\")\n",
    "all_x = f.variables[\"x\"][:]\n",
    "print(all_x)"
   ]
  },
  {
   "cell_type": "markdown",
   "metadata": {
    "id": "VS2HxuM4yV83"
   },
   "source": [
    "- The command `all_x = f.variables[\"x\"][:]` loads all into memory all the values of the variable `x` from all the netCDF files.\n",
    "- To potentially avoid crashing your computer, it is better to load small parts at a time by replacing `[:]` with slices, for example, `[0:2]`, `[2:4]`, etc."
   ]
  },
  {
   "cell_type": "markdown",
   "metadata": {
    "id": "3i3WnDsUyV84"
   },
   "source": [
    "### <font color='red'>Useful Methods</font>\n",
    "\n",
    "#### Methods acting on the file\n",
    "\n",
    "| Method Name | Description |\n",
    "| --- | --- |\n",
    "| `ncattrs()` | List all the global attributes |\n",
    "| `getncattr(attr)` | Get the value of the attribute `attr` |\n",
    "\n",
    "\n",
    "\n",
    "#### Methods acting on a variable\n",
    "\n",
    "| Method Name | Description |\n",
    "| --- | --- |\n",
    "| `ncattrs()` | List all the attributes of a variable|\n",
    "| `getncattr(attr)` | Get the value of the attribute `attr` |\n",
    "| `setncatts(attr, val)` | Set the value `val` to the attribute `attr`|\n",
    "| `renameDimension(oldname, newname)` | Rename a dimension named `oldname` to `newname` |\n",
    "| `renameVariable(oldname, newname)` | Rename a variable named `oldname` to `newname` |"
   ]
  },
  {
   "cell_type": "markdown",
   "metadata": {
    "id": "_owMTq_MyV84"
   },
   "source": [
    "**Print the dimensions:**"
   ]
  },
  {
   "cell_type": "code",
   "execution_count": 45,
   "metadata": {
    "id": "h238ZiCoyV84"
   },
   "outputs": [
    {
     "name": "stdout",
     "output_type": "stream",
     "text": [
      "time: 5\n",
      "lev: 72\n",
      "lat: 91\n",
      "lon: 144\n"
     ]
    }
   ],
   "source": [
    "with nc4.Dataset(ncFileName, mode='r') as ncfid:\n",
    "     for name, dim in ncfid.dimensions.items():\n",
    "         print(\"{}: {}\".format(name, len(dim)))"
   ]
  },
  {
   "cell_type": "markdown",
   "metadata": {
    "id": "wlBtFrJayV84"
   },
   "source": [
    "**Print the global attributes:**"
   ]
  },
  {
   "cell_type": "code",
   "execution_count": 46,
   "metadata": {
    "id": "xSY4rj3eyV84"
   },
   "outputs": [
    {
     "name": "stdout",
     "output_type": "stream",
     "text": [
      "description: Sample netCDF file\n",
      "institution: NASA GSFC\n",
      "history: File created on December 13, 2021, 10:19:58\n",
      "source: netCDF4 python tutorial\n"
     ]
    }
   ],
   "source": [
    "with nc4.Dataset(ncFileName, mode='r') as ncfid:\n",
    "     for attr in ncfid.ncattrs():\n",
    "         print(\"{}: {}\".format(attr, ncfid.getncattr(attr)))"
   ]
  },
  {
   "cell_type": "markdown",
   "metadata": {
    "id": "6CUx3UTDyV85"
   },
   "source": [
    "**Print all variables and their attributes:**"
   ]
  },
  {
   "cell_type": "code",
   "execution_count": 47,
   "metadata": {
    "id": "hZDByd1LyV85"
   },
   "outputs": [
    {
     "name": "stdout",
     "output_type": "stream",
     "text": [
      "time:\n",
      "           Dimension: ('time',)\n",
      "     Dimension value: (5,)\n",
      "                Type: float64\n",
      "           long_name: time\n",
      "               units: hours since 2019-01-01 00:00:00\n",
      "            calendar: gregorian\n",
      "lev:\n",
      "           Dimension: ('lev',)\n",
      "     Dimension value: (72,)\n",
      "                Type: int32\n",
      "           long_name: vertical levels\n",
      "               units: hPa\n",
      "            positive: down\n",
      "lat:\n",
      "           Dimension: ('lat',)\n",
      "     Dimension value: (91,)\n",
      "                Type: float32\n",
      "           long_name: latitude\n",
      "               units: degrees north\n",
      "lon:\n",
      "           Dimension: ('lon',)\n",
      "     Dimension value: (144,)\n",
      "                Type: float32\n",
      "           long_name: longitude\n",
      "               units: degrees east\n",
      "temp:\n",
      "           Dimension: ('time', 'lev', 'lat', 'lon')\n",
      "     Dimension value: (5, 72, 91, 144)\n",
      "                Type: float32\n",
      "          _FillValue: 999999986991104.0\n",
      "           long_name: temperature\n",
      "               units: K\n",
      "           valid_min: 200.0\n",
      "           valid_max: 350.0\n",
      "       standard_name: atmospheric_temperature\n"
     ]
    }
   ],
   "source": [
    "with nc4.Dataset(ncFileName, mode='r') as ncfid:\n",
    "     for name, var in ncfid.variables.items():\n",
    "         print(\"{}:\".format(name))\n",
    "         print(\"{:>20}: {}\".format(\"Dimension\", var.dimensions))\n",
    "         print(\"{:>20}: {}\".format(\"Dimension value\", var.shape))\n",
    "         print(\"{:>20}: {}\".format(\"Type\", var.dtype))\n",
    "         for attr in var.ncattrs():\n",
    "             print(\"{:>20}: {}\".format(attr, var.getncattr(attr)))"
   ]
  },
  {
   "cell_type": "markdown",
   "metadata": {
    "id": "X2c8a4_9yV85"
   },
   "source": [
    "**Mimic `ncdump -h` Command**"
   ]
  },
  {
   "cell_type": "code",
   "execution_count": 48,
   "metadata": {
    "id": "WAlpclsJyV85"
   },
   "outputs": [],
   "source": [
    "def my_ncdump(file_name):\n",
    "    with nc4.Dataset(file_name, mode='r') as ncfid:\n",
    "         for name, var in ncfid.variables.items():\n",
    "             print(\"{}:\".format(name))\n",
    "             print(\"{:>20}: {}\".format(\"Dimension\", var.dimensions))\n",
    "             print(\"{:>20}: {}\".format(\"Dimension value\", var.shape))\n",
    "             print(\"{:>20}: {}\".format(\"Type\", var.dtype))\n",
    "             for attr in var.ncattrs():\n",
    "                 print(\"{:>20}: {}\".format(attr, var.getncattr(attr)))\n",
    "         print()\n",
    "         print(\"Global attributes\")\n",
    "         for attr in ncfid.ncattrs():\n",
    "             print(\"{:>20}: {}\".format(attr, ncfid.getncattr(attr)))"
   ]
  },
  {
   "cell_type": "code",
   "execution_count": 49,
   "metadata": {
    "id": "MXyPpKtAyV87"
   },
   "outputs": [
    {
     "name": "stdout",
     "output_type": "stream",
     "text": [
      "time:\n",
      "           Dimension: ('time',)\n",
      "     Dimension value: (5,)\n",
      "                Type: float64\n",
      "           long_name: time\n",
      "               units: hours since 2019-01-01 00:00:00\n",
      "            calendar: gregorian\n",
      "lev:\n",
      "           Dimension: ('lev',)\n",
      "     Dimension value: (72,)\n",
      "                Type: int32\n",
      "           long_name: vertical levels\n",
      "               units: hPa\n",
      "            positive: down\n",
      "lat:\n",
      "           Dimension: ('lat',)\n",
      "     Dimension value: (91,)\n",
      "                Type: float32\n",
      "           long_name: latitude\n",
      "               units: degrees north\n",
      "lon:\n",
      "           Dimension: ('lon',)\n",
      "     Dimension value: (144,)\n",
      "                Type: float32\n",
      "           long_name: longitude\n",
      "               units: degrees east\n",
      "temp:\n",
      "           Dimension: ('time', 'lev', 'lat', 'lon')\n",
      "     Dimension value: (5, 72, 91, 144)\n",
      "                Type: float32\n",
      "          _FillValue: 999999986991104.0\n",
      "           long_name: temperature\n",
      "               units: K\n",
      "           valid_min: 200.0\n",
      "           valid_max: 350.0\n",
      "       standard_name: atmospheric_temperature\n",
      "\n",
      "Global attributes\n",
      "         description: Sample netCDF file\n",
      "         institution: NASA GSFC\n",
      "             history: File created on December 13, 2021, 10:19:58\n",
      "              source: netCDF4 python tutorial\n"
     ]
    }
   ],
   "source": [
    "my_ncdump(ncFileName)"
   ]
  },
  {
   "cell_type": "markdown",
   "metadata": {
    "id": "NAoqGduSyV88"
   },
   "source": [
    "### <font color='red'>Updating a Variable in an Existing netCDF File</font>"
   ]
  },
  {
   "cell_type": "code",
   "execution_count": 50,
   "metadata": {
    "id": "rPibIHXtyV88"
   },
   "outputs": [],
   "source": [
    "with nc4.Dataset(ncFileName, mode='a') as ncfid:\n",
    "     temp = ncfid.variables['temp'][:]\n",
    "     data = temp[:]\n",
    "     data = 1.1*data + 100.0\n",
    "     temp[:] = data"
   ]
  },
  {
   "cell_type": "code",
   "execution_count": 51,
   "metadata": {
    "id": "8pJ7bkegyV88"
   },
   "outputs": [
    {
     "name": "stdout",
     "output_type": "stream",
     "text": [
      "(5, 72, 91, 144)\n",
      "-- --\n"
     ]
    }
   ],
   "source": [
    "print(temp.shape)\n",
    "print(np.min(temp), np.max(temp))"
   ]
  },
  {
   "cell_type": "code",
   "execution_count": null,
   "metadata": {
    "id": "UpjVQozgyV88"
   },
   "outputs": [],
   "source": []
  },
  {
   "cell_type": "markdown",
   "metadata": {
    "id": "jSrNif0NyV88"
   },
   "source": [
    "### <font color='red'>Copy the Content of a netCDF File</font>"
   ]
  },
  {
   "cell_type": "code",
   "execution_count": 52,
   "metadata": {
    "id": "iXTRcXK1yV88"
   },
   "outputs": [],
   "source": [
    "def copy_nc_file(src_file, dst_file):\n",
    "    with nc4.Dataset(src_file) as srcid:\n",
    "         with nc4.Dataset(dst_file, mode='w') as dstid:\n",
    "              # Create the dimensions of the file\n",
    "              for name, dim in srcid.dimensions.items():\n",
    "                  dstid.createDimension(name, len(dim) if not dim.isunlimited() else None)\n",
    "\n",
    "              # Copy the global attributes\n",
    "              dstid.setncatts({a:srcid.getncattr(a) for a in srcid.ncattrs()})\n",
    "\n",
    "              # Create the variables in the file\n",
    "              for name, var in srcid.variables.items():\n",
    "                  dstid.createVariable(name, var.dtype, var.dimensions)\n",
    "\n",
    "                  # Copy the variable attributes\n",
    "                  dstid.variables[name].setncatts({a:var.getncattr(a) for a in var.ncattrs()})\n",
    "\n",
    "                  # Copy the variables values\n",
    "                  dstid.variables[name][:] = srcid.variables[name][:]"
   ]
  },
  {
   "cell_type": "markdown",
   "metadata": {
    "id": "_EKre9L9yV88"
   },
   "source": [
    "### <font color='red'>Compare two netCDF Files</font>"
   ]
  },
  {
   "cell_type": "code",
   "execution_count": 53,
   "metadata": {
    "id": "zbfJoQCvyV89"
   },
   "outputs": [],
   "source": [
    "def rms(V):\n",
    "    return np.sqrt(np.mean(np.square(V)))\n",
    "\n",
    "def compare_two_nc_files(fileA, fileB):\n",
    "    machine_eps = 1.0e-25\n",
    "\n",
    "    print(\"-\" *100)\n",
    "    print(\"Comparing the two nc files:\")\n",
    "    print(\"  * \", fileA)\n",
    "    print(\"  * \", fileB)\n",
    "    print(\"-\" *100)\n",
    "\n",
    "    with nc4.Dataset(fileA, mode='r', format='NETCDF4') as fidA:\n",
    "         with nc4.Dataset(fileB, mode='r', format='NETCDF4') as fidB:\n",
    "              listVars = fidA.variables.keys()\n",
    "              dimVars  = fidA.dimensions.keys()\n",
    "\n",
    "              print(\"            Machine precision: \", machine_eps)\n",
    "              same = True\n",
    "              for varName in listVars:\n",
    "                  if varName not in dimVars:\n",
    "                     valsA = fidA.variables[varName][:]\n",
    "                     valsB = fidB.variables[varName][:]\n",
    "                     diff = np.sum(valsA - valsB)\n",
    "                     print(\"Variable Name and Sum of Difference: {:<15} {:30.27f}\".format(varName, diff))\n",
    "                     err = rms(valsA - valsB)\n",
    "                     print(err)\n",
    "                     if (err > machine_eps):\n",
    "                        print(\"     The variable {} differs in the two files\".format(varName))\n",
    "                        same = False\n",
    "                        break\n",
    "\n",
    "\n",
    "    print(\"-\" *100)\n",
    "    if same:\n",
    "       print(\" -----> The two files are identical!\")\n",
    "    else:\n",
    "       print(\" -----> The two files are different!\")\n",
    "\n",
    "    print(\"-\" *100)\n"
   ]
  },
  {
   "cell_type": "code",
   "execution_count": 54,
   "metadata": {
    "id": "KcgOoqikyV89"
   },
   "outputs": [
    {
     "name": "stdout",
     "output_type": "stream",
     "text": [
      "----------------------------------------------------------------------------------------------------\n",
      "Comparing the two nc files:\n",
      "  *  sample_netcdf.nc4\n",
      "  *  sample_netcdf.nc4\n",
      "----------------------------------------------------------------------------------------------------\n",
      "            Machine precision:  1e-25\n",
      "Variable Name and Sum of Difference: temp             0.000000000000000000000000000\n",
      "--\n",
      "----------------------------------------------------------------------------------------------------\n",
      " -----> The two files are identical!\n",
      "----------------------------------------------------------------------------------------------------\n"
     ]
    }
   ],
   "source": [
    "compare_two_nc_files(ncFileName, ncFileName)"
   ]
  },
  {
   "cell_type": "markdown",
   "metadata": {
    "id": "IXzgvF8hyV89"
   },
   "source": [
    "## <font color=\"red\">Application 1: </font> Create a climatology file\n",
    "\n",
    "- We have a file that has several variables but only one record (one monthly value).\n",
    "- We want to create a new file that is the same as the first one but contains 12 identical records (one per month)."
   ]
  },
  {
   "cell_type": "markdown",
   "metadata": {
    "id": "ZnCDKxx5yV89"
   },
   "source": [
    "## <font color=\"red\">Application 2: </font> Global Average Time Series\n",
    "\n",
    "- We have a collection of files covering multiple years.\n",
    "- We consider one variable and compute its yearly mean.\n",
    "- We plot the yearly mean values as function of years."
   ]
  },
  {
   "cell_type": "markdown",
   "metadata": {
    "id": "zYgtGlFWyV89"
   },
   "source": [
    "## <font color=\"red\">Application 3: </font> Create Monthly Mean Climatologies\n",
    "\n",
    "- We have a collection of monthly files covering multiple years.\n",
    "- We want to create monthly climatology files."
   ]
  },
  {
   "cell_type": "markdown",
   "metadata": {
    "id": "EbHHqtksyV89"
   },
   "source": [
    "## <font color=\"red\">Example</font>"
   ]
  },
  {
   "cell_type": "markdown",
   "metadata": {
    "id": "H8_tcW-5yV89"
   },
   "source": [
    "We want to use the netCDF file:\n",
    "\n",
    "https://www.unidata.ucar.edu/software/netcdf/examples/sresa1b_ncar_ccsm3-example.nc\n",
    "\n",
    "to plot the surface air temperature (variable `tas`) and the zonal mean height of the wind (variable `ua`).\n",
    "\n",
    "\n",
    "The metadata of the file is located at:\n",
    "\n",
    "https://www.unidata.ucar.edu/software/netcdf/examples/sresa1b_ncar_ccsm3-example.cdl"
   ]
  },
  {
   "cell_type": "code",
   "execution_count": 96,
   "metadata": {},
   "outputs": [],
   "source": [
    "#Import dependencies\n",
    "import os\n",
    "from scipy.io import netcdf\n",
    "from netCDF4 import Dataset"
   ]
  },
  {
   "cell_type": "code",
   "execution_count": 97,
   "metadata": {},
   "outputs": [],
   "source": [
    "nc = Dataset(\"data/sresa1b_ncar_ccsm3-example.nc\", mode = 'r')"
   ]
  },
  {
   "cell_type": "code",
   "execution_count": 99,
   "metadata": {},
   "outputs": [
    {
     "data": {
      "text/plain": [
       "<class 'netCDF4._netCDF4.Dataset'>\n",
       "root group (NETCDF3_CLASSIC data model, file format NETCDF3):\n",
       "    CVS_Id: $Id$\n",
       "    creation_date: \n",
       "    prg_ID: Source file unknown Version unknown Date unknown\n",
       "    cmd_ln: bds -x 256 -y 128 -m 23 -o /data/zender/data/dst_T85.nc\n",
       "    history: Tue Oct 25 15:08:51 2005: ncks -O -x -v va -m sresa1b_ncar_ccsm3_0_run1_200001.nc sresa1b_ncar_ccsm3_0_run1_200001.nc\n",
       "Tue Oct 25 15:07:21 2005: ncks -d time,0 sresa1b_ncar_ccsm3_0_run1_200001_201912.nc sresa1b_ncar_ccsm3_0_run1_200001.nc\n",
       "Tue Oct 25 13:29:43 2005: ncks -d time,0,239 sresa1b_ncar_ccsm3_0_run1_200001_209912.nc /var/www/html/tmp/sresa1b_ncar_ccsm3_0_run1_200001_201912.nc\n",
       "Thu Oct 20 10:47:50 2005: ncks -A -v va /data/brownmc/sresa1b/atm/mo/va/ncar_ccsm3_0/run1/sresa1b_ncar_ccsm3_0_run1_va_200001_209912.nc /data/brownmc/sresa1b/atm/mo/tas/ncar_ccsm3_0/run1/sresa1b_ncar_ccsm3_0_run1_200001_209912.nc\n",
       "Wed Oct 19 14:55:04 2005: ncks -F -d time,01,1200 /data/brownmc/sresa1b/atm/mo/va/ncar_ccsm3_0/run1/sresa1b_ncar_ccsm3_0_run1_va_200001_209912.nc /data/brownmc/sresa1b/atm/mo/va/ncar_ccsm3_0/run1/sresa1b_ncar_ccsm3_0_run1_va_200001_209912.nc\n",
       "Wed Oct 19 14:53:28 2005: ncrcat /data/brownmc/sresa1b/atm/mo/va/ncar_ccsm3_0/run1/foo_05_1200.nc /data/brownmc/sresa1b/atm/mo/va/ncar_ccsm3_0/run1/foo_1192_1196.nc /data/brownmc/sresa1b/atm/mo/va/ncar_ccsm3_0/run1/sresa1b_ncar_ccsm3_0_run1_va_200001_209912.nc\n",
       "Wed Oct 19 14:50:38 2005: ncks -F -d time,05,1200 /data/brownmc/sresa1b/atm/mo/va/ncar_ccsm3_0/run1/va_A1.SRESA1B_1.CCSM.atmm.2000-01_cat_2099-12.nc /data/brownmc/sresa1b/atm/mo/va/ncar_ccsm3_0/run1/foo_05_1200.nc\n",
       "Wed Oct 19 14:49:45 2005: ncrcat /data/brownmc/sresa1b/atm/mo/va/ncar_ccsm3_0/run1/va_A1.SRESA1B_1.CCSM.atmm.2000-01_cat_2079-12.nc /data/brownmc/sresa1b/atm/mo/va/ncar_ccsm3_0/run1/va_A1.SRESA1B_1.CCSM.atmm.2080-01_cat_2099-12.nc /data/brownmc/sresa1b/atm/mo/va/ncar_ccsm3_0/run1/va_A1.SRESA1B_1.CCSM.atmm.2000-01_cat_2099-12.nc\n",
       "Created from CCSM3 case b30.040a\n",
       " by wgstrand@ucar.edu\n",
       " on Wed Nov 17 14:12:57 EST 2004\n",
       " \n",
       " For all data, added IPCC requested metadata\n",
       "    table_id: Table A1\n",
       "    title: model output prepared for IPCC AR4\n",
       "    institution: NCAR (National Center for Atmospheric \n",
       "Research, Boulder, CO, USA)\n",
       "    source: CCSM3.0, version beta19 (2004): \n",
       "atmosphere: CAM3.0, T85L26;\n",
       "ocean     : POP1.4.3 (modified), gx1v3\n",
       "sea ice   : CSIM5.0, T85;\n",
       "land      : CLM3.0, gx1v3\n",
       "    contact: ccsm@ucar.edu\n",
       "    project_id: IPCC Fourth Assessment\n",
       "    Conventions: CF-1.0\n",
       "    references: Collins, W.D., et al., 2005:\n",
       " The Community Climate System Model, Version 3\n",
       " Journal of Climate\n",
       " \n",
       " Main website: http://www.ccsm.ucar.edu\n",
       "    acknowledgment:  Any use of CCSM data should acknowledge the contribution\n",
       " of the CCSM project and CCSM sponsor agencies with the \n",
       " following citation:\n",
       " 'This research uses data provided by the Community Climate\n",
       " System Model project (www.ccsm.ucar.edu), supported by the\n",
       " Directorate for Geosciences of the National Science Foundation\n",
       " and the Office of Biological and Environmental Research of\n",
       " the U.S. Department of Energy.'\n",
       "In addition, the words 'Community Climate System Model' and\n",
       " 'CCSM' should be included as metadata for webpages referencing\n",
       " work using CCSM data or as keywords provided to journal or book\n",
       "publishers of your manuscripts.\n",
       "Users of CCSM data accept the responsibility of emailing\n",
       " citations of publications of research using CCSM data to\n",
       " ccsm@ucar.edu.\n",
       "Any redistribution of CCSM data must include this data\n",
       " acknowledgement statement.\n",
       "    realization: 1\n",
       "    experiment_id: 720 ppm stabilization experiment (SRESA1B)\n",
       "    comment: This simulation was initiated from year 2000 of \n",
       " CCSM3 model run b30.030a and executed on \n",
       " hardware cheetah.ccs.ornl.gov. The input external forcings are\n",
       "ozone forcing    : A1B.ozone.128x64_L18_1991-2100_c040528.nc\n",
       "aerosol optics   : AerosolOptics_c040105.nc\n",
       "aerosol MMR      : AerosolMass_V_128x256_clim_c031022.nc\n",
       "carbon scaling   : carbonscaling_A1B_1990-2100_c040609.nc\n",
       "solar forcing    : Fixed at 1366.5 W m-2\n",
       "GHGs             : ghg_ipcc_A1B_1870-2100_c040521.nc\n",
       "GHG loss rates   : noaamisc.r8.nc\n",
       "volcanic forcing : none\n",
       "DMS emissions    : DMS_emissions_128x256_clim_c040122.nc\n",
       "oxidants         : oxid_128x256_L26_clim_c040112.nc\n",
       "SOx emissions    : SOx_emissions_A1B_128x256_L2_1990-2100_c040608.nc\n",
       " Physical constants used for derived data:\n",
       " Lv (latent heat of evaporation): 2.501e6 J kg-1\n",
       " Lf (latent heat of fusion     ): 3.337e5 J kg-1\n",
       " r[h2o] (density of water      ): 1000 kg m-3\n",
       " g2kg   (grams to kilograms    ): 1000 g kg-1\n",
       " \n",
       " Integrations were performed by NCAR and CRIEPI with support\n",
       " and facilities provided by NSF, DOE, MEXT and ESC/JAMSTEC.\n",
       "    model_name_english: NCAR CCSM\n",
       "    dimensions(sizes): lat(128), lon(256), bnds(2), plev(17), time(1)\n",
       "    variables(dimensions): float32 area(lat,lon), float32 lat(lat), float64 lat_bnds(lat,bnds), float32 lon(lon), float64 lon_bnds(lon,bnds), int32 msk_rgn(lat,lon), float64 plev(plev), float32 pr(time,lat,lon), float32 tas(time,lat,lon), float64 time(time), float64 time_bnds(time,bnds), float32 ua(time,plev,lat,lon)\n",
       "    groups: "
      ]
     },
     "execution_count": 99,
     "metadata": {},
     "output_type": "execute_result"
    }
   ],
   "source": [
    "nc"
   ]
  },
  {
   "cell_type": "code",
   "execution_count": 55,
   "metadata": {
    "id": "NtA-M3XGyV8-"
   },
   "outputs": [],
   "source": [
    "# Get the remote  file\n",
    "nc_file = \"data/sresa1b_ncar_ccsm3-example.nc\"\n",
    "# url = \"https://www.unidata.ucar.edu/software/netcdf/examples/\"\n",
    "# import urllib.request\n",
    "# urllib.request.urlretrieve(url+nc_file, nc_file)"
   ]
  },
  {
   "cell_type": "code",
   "execution_count": 56,
   "metadata": {
    "id": "KvX1DalcyV8-"
   },
   "outputs": [],
   "source": [
    "# Open the netCDF file and read surface air temperature\n",
    "with nc4.Dataset(nc_file,'r') as ncid:\n",
    "     lons      = ncid.variables['lon'][:] # longitude grid points\n",
    "     lats      = ncid.variables['lat'][:] # latitude grid points\n",
    "     levs      = ncid.variables['plev'][:] # pressure leves\n",
    "     surf_temp = ncid.variables['tas'][:]\n",
    "     uwind     = ncid.variables['ua'][:]"
   ]
  },
  {
   "cell_type": "code",
   "execution_count": 62,
   "metadata": {},
   "outputs": [
    {
     "data": {
      "text/plain": [
       "dict_keys(['area', 'lat', 'lat_bnds', 'lon', 'lon_bnds', 'msk_rgn', 'plev', 'pr', 'tas', 'time', 'time_bnds', 'ua'])"
      ]
     },
     "execution_count": 62,
     "metadata": {},
     "output_type": "execute_result"
    }
   ],
   "source": [
    "# Get dictionary keys from dataset\n",
    "ncid.variables.keys()"
   ]
  },
  {
   "cell_type": "code",
   "execution_count": 57,
   "metadata": {
    "id": "nVBBLIRTyV8-"
   },
   "outputs": [
    {
     "name": "stdout",
     "output_type": "stream",
     "text": [
      "Shape of lons:       (256,) 0.0 358.59375\n",
      "Shape of lats:       (128,) -88.927734 88.927734\n",
      "Shape of levs:       (17,) 100000.0 1000.0\n",
      "Shape of surf_temp:  (1, 128, 256)\n",
      "Shape of uwind:      (1, 17, 128, 256)\n"
     ]
    }
   ],
   "source": [
    "print(\"Shape of lons:      \", np.shape(lons), lons[0], lons[-1])\n",
    "print(\"Shape of lats:      \", np.shape(lats), lats[0], lats[-1])\n",
    "print(\"Shape of levs:      \", np.shape(levs), levs[0], levs[-1])\n",
    "print(\"Shape of surf_temp: \", np.shape(surf_temp))\n",
    "print(\"Shape of uwind:     \", np.shape(uwind))"
   ]
  },
  {
   "cell_type": "code",
   "execution_count": 83,
   "metadata": {},
   "outputs": [
    {
     "data": {
      "text/plain": [
       "(1, 17, 128, 256)"
      ]
     },
     "execution_count": 83,
     "metadata": {},
     "output_type": "execute_result"
    }
   ],
   "source": [
    "# Find shape of variable uwind(number of dimensions and number of data points)\n",
    "uwind.shape"
   ]
  },
  {
   "cell_type": "code",
   "execution_count": 84,
   "metadata": {},
   "outputs": [
    {
     "data": {
      "text/plain": [
       "(1, 128, 256)"
      ]
     },
     "execution_count": 84,
     "metadata": {},
     "output_type": "execute_result"
    }
   ],
   "source": [
    "# Find shape of variable surf_temp(number of dimensions and number of data points)\n",
    "surf_temp.shape"
   ]
  },
  {
   "cell_type": "markdown",
   "metadata": {
    "id": "RLiK6zYdyV8-"
   },
   "source": [
    "**Load Plotting Modules**"
   ]
  },
  {
   "cell_type": "markdown",
   "metadata": {
    "id": "psSiLEn567iu"
   },
   "source": []
  },
  {
   "cell_type": "markdown",
   "metadata": {
    "id": "YvkE9YleyV9C"
   },
   "source": [
    "**<font color='blue'> Uncomment the cell below if you are on Google Colab</font>**"
   ]
  },
  {
   "cell_type": "code",
   "execution_count": null,
   "metadata": {
    "id": "K2FuwXd9yV9D"
   },
   "outputs": [],
   "source": [
    "#!apt-get install libproj-dev proj-data proj-bin\n",
    "#!apt-get install libgeos-dev\n",
    "#!pip install cython\n",
    "#!pip install cartopy"
   ]
  },
  {
   "cell_type": "markdown",
   "metadata": {
    "id": "pevyiNDnyV9E"
   },
   "source": [
    "---"
   ]
  },
  {
   "cell_type": "code",
   "execution_count": 87,
   "metadata": {
    "id": "HMkLFDmVyV9F"
   },
   "outputs": [],
   "source": [
    "%matplotlib inline\n",
    "import matplotlib\n",
    "import matplotlib.pyplot as plt\n",
    "from matplotlib import cm\n",
    "\n",
    "import cartopy\n",
    "import cartopy.crs as ccrs\n",
    "import cartopy.feature as cfeature\n",
    "from cartopy.mpl.ticker import LongitudeFormatter, LatitudeFormatter"
   ]
  },
  {
   "cell_type": "markdown",
   "metadata": {
    "id": "x9LNYs3_yV9G"
   },
   "source": [
    "**Plot of Surface Temperature**"
   ]
  },
  {
   "cell_type": "code",
   "execution_count": 106,
   "metadata": {
    "id": "B5I-30HhyV9G"
   },
   "outputs": [
    {
     "data": {
      "image/png": "[encoded data removed]",
      "text/plain": [
       "<Figure size 1440x864 with 2 Axes>"
      ]
     },
     "metadata": {
      "needs_background": "light"
     },
     "output_type": "display_data"
    }
   ],
   "source": [
    "fig = plt.figure(figsize=(20.0, 12.0))\n",
    "map_projection = ccrs.PlateCarree()\n",
    "ax = fig.add_subplot(1, 1, 1, projection=map_projection)\n",
    "\n",
    "im = ax.contourf(lons, lats, surf_temp[0,:,:], transform=map_projection)\n",
    "ax.coastlines()\n",
    "plt.title('Surface Temperature', size=14)\n",
    "ax.set_xticks(np.linspace(-180, 180, 5), crs=map_projection)\n",
    "ax.set_yticks(np.linspace(-90, 90, 5), crs=map_projection)\n",
    "lon_formatter = LongitudeFormatter(zero_direction_label=True)\n",
    "lat_formatter = LatitudeFormatter()\n",
    "ax.xaxis.set_major_formatter(lon_formatter)\n",
    "ax.yaxis.set_major_formatter(lat_formatter)\n",
    "\n",
    "cb = fig.colorbar(im, orientation='vertical', shrink=0.75)\n",
    "cb.set_label('K',size=12,rotation=0,labelpad=15)\n",
    "\n",
    "ax.set_global()\n",
    "plt.show()\n",
    "\n",
    "# Save the plot as a PNG image\n",
    "\n",
    "fig.savefig('surf_temp_1.png', format='png', dpi=360)"
   ]
  },
  {
   "cell_type": "markdown",
   "metadata": {
    "id": "NHPVCfysyV9G"
   },
   "source": [
    "**Plot Zonal Mean Height of Wind**"
   ]
  },
  {
   "cell_type": "code",
   "execution_count": 107,
   "metadata": {
    "id": "tqWGLd13yV9G"
   },
   "outputs": [
    {
     "data": {
      "image/png": "[encoded data removed]",
      "text/plain": [
       "<Figure size 1440x864 with 2 Axes>"
      ]
     },
     "metadata": {
      "needs_background": "light"
     },
     "output_type": "display_data"
    }
   ],
   "source": [
    "# Compute the zonal mean height\n",
    "zonal_mean_height = np.mean(uwind[0,:,:,:], axis=2)\n",
    "\n",
    "# Select contour levels\n",
    "ncountours = 10\n",
    "fac = 0.005\n",
    "min_val = (1.0-fac)*np.min(zonal_mean_height)\n",
    "max_val = (1.0+fac)*np.max(zonal_mean_height)\n",
    "clevs = np.linspace(min_val, max_val, ncountours)\n",
    "\n",
    "fig = plt.figure(figsize=(20.0, 12.0))\n",
    "ax = fig.add_subplot(1, 1, 1)\n",
    "\n",
    "# Add Title\n",
    "plt.title('Zonal Mean Height of Wind', size= 14)\n",
    "\n",
    "# map contour values to colors\n",
    "norm=matplotlib.colors.BoundaryNorm(clevs, ncolors=256, clip=False)\n",
    "    \n",
    "# draw the contours with contour labels\n",
    "CS = ax.contour(lats, levs, zonal_mean_height, levels=clevs)\n",
    "ax.clabel(CS,inline=1, fontsize=10, colors='black')\n",
    "\n",
    "# draw the (filled) contours\n",
    "contour = ax.contourf(lats, levs, zonal_mean_height, levels=clevs, norm=norm)\n",
    "\n",
    "# Draw colorbar\n",
    "fmt = matplotlib.ticker.FormatStrFormatter(\"%3.2g\")\n",
    "cbar = fig.colorbar(contour, ax=ax, orientation='horizontal', shrink=0.8,\n",
    "                    ticks=clevs, format=fmt)\n",
    "cbar.set_label('m s-1')\n",
    "\n",
    "ax.set_yscale('log')\n",
    "ax.set_xlabel(\"Latitude (degrees)\")\n",
    "ax.set_ylabel(\"Pressure (Pa)\")\n",
    "plt.show()\n",
    "\n",
    "# Save plot as a PNG image\n",
    "fig.savefig('zonal_mean_height_wind.png', format='png', dpi=360)"
   ]
  },
  {
   "cell_type": "code",
   "execution_count": null,
   "metadata": {
    "id": "Lwrq6LOtyV9H"
   },
   "outputs": [],
   "source": []
  }
 ],
 "metadata": {
  "anaconda-cloud": {},
  "colab": {
   "name": "introduction_netcdf4.ipynb",
   "provenance": [],
   "toc_visible": true
  },
  "kernelspec": {
   "display_name": "Python 3",
   "language": "python",
   "name": "python3"
  },
  "language_info": {
   "codemirror_mode": {
    "name": "ipython",
    "version": 3
   },
   "file_extension": ".py",
   "mimetype": "text/x-python",
   "name": "python",
   "nbconvert_exporter": "python",
   "pygments_lexer": "ipython3",
   "version": "3.7.9"
  }
 },
 "nbformat": 4,
 "nbformat_minor": 1
}
